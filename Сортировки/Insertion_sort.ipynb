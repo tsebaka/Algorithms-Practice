{
  "nbformat": 4,
  "nbformat_minor": 0,
  "metadata": {
    "colab": {
      "provenance": []
    },
    "kernelspec": {
      "name": "python3",
      "display_name": "Python 3"
    },
    "language_info": {
      "name": "python"
    }
  },
  "cells": [
    {
      "cell_type": "code",
      "source": [
        "arr = [5, 4, 3, 2, 1]"
      ],
      "metadata": {
        "id": "Q-Ev5WHT5a8r"
      },
      "execution_count": 34,
      "outputs": []
    },
    {
      "cell_type": "code",
      "source": [
        "for i in range(5):\n",
        "    j = i\n",
        "    while j > 0 and arr[j] < arr[j - 1]:\n",
        "        arr[j], arr[j - 1] = arr[j - 1], arr[j]\n",
        "        j = j - 1\n",
        "        print(arr)"
      ],
      "metadata": {
        "colab": {
          "base_uri": "https://localhost:8080/"
        },
        "id": "rivbR3Ib5zpC",
        "outputId": "6fe15d60-4d30-42b6-95cf-0a5a83a98566"
      },
      "execution_count": 35,
      "outputs": [
        {
          "output_type": "stream",
          "name": "stdout",
          "text": [
            "[4, 5, 3, 2, 1]\n",
            "[4, 3, 5, 2, 1]\n",
            "[3, 4, 5, 2, 1]\n",
            "[3, 4, 2, 5, 1]\n",
            "[3, 2, 4, 5, 1]\n",
            "[2, 3, 4, 5, 1]\n",
            "[2, 3, 4, 1, 5]\n",
            "[2, 3, 1, 4, 5]\n",
            "[2, 1, 3, 4, 5]\n",
            "[1, 2, 3, 4, 5]\n"
          ]
        }
      ]
    },
    {
      "cell_type": "code",
      "source": [
        "print(arr)"
      ],
      "metadata": {
        "colab": {
          "base_uri": "https://localhost:8080/"
        },
        "id": "yAYHFCsO6RQt",
        "outputId": "e6c0a622-0f0e-4973-fff1-b5a4b9e2ffe2"
      },
      "execution_count": 36,
      "outputs": [
        {
          "output_type": "stream",
          "name": "stdout",
          "text": [
            "[1, 2, 3, 4, 5]\n"
          ]
        }
      ]
    },
    {
      "cell_type": "markdown",
      "source": [
        "### **Сложность порядка n^2**"
      ],
      "metadata": {
        "id": "C5FsiS5t6Uxv"
      }
    }
  ]
}